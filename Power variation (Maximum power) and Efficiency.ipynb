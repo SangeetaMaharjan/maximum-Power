{
 "cells": [
  {
   "cell_type": "markdown",
   "metadata": {},
   "source": [
    "# Power variation: Maximum power transfer\n",
    "- variation of output power with load resistance"
   ]
  },
  {
   "cell_type": "markdown",
   "metadata": {},
   "source": [
    "$Let~E= Emf~of~Cell$\n",
    "\n",
    "$R=External~(load)~Resistance$\n",
    "\n",
    "$r=Internal~resistance~of~cell$\n",
    "                           \n",
    "$I=Current ~through ~circuit$\n",
    "                           \n",
    "$P_{out}=Output ~power$ \n",
    "                           \n",
    "$\\eta=Efficiency$\n",
    "\n",
    "$V=Terminal~p.d.$\n",
    "\n",
    "$I=\\dfrac{E}{R+r}$\n",
    "                           \n",
    "$V=IR=R\\dfrac{E}{R+r}$\n",
    "\n",
    "$P_{out}=I^2R$\n",
    "\n",
    "$P_{out}=\\dfrac{E^2R}{(R+r)^2}$\n",
    "        \n",
    "$Efficiency$\n",
    "\n",
    "$ \\eta=\\dfrac {P_{Out}}{P_{in}}$\n",
    "\n",
    "$ \\eta=\\dfrac{IV}{IE}$\n",
    "\n",
    "$ \\eta=\\dfrac{V}{E}$\n",
    "\n",
    "$ \\eta=\\dfrac{IR}{E}$\n",
    "\n",
    "$ \\eta=\\dfrac{ER}{(R+r)E}$\n",
    "\n",
    "$\\eta=\\dfrac{R}{R+r}$"
   ]
  },
  {
   "cell_type": "markdown",
   "metadata": {},
   "source": [
    "### Maximum power transfer\n",
    "$P_{out}=\\dfrac{E^2R}{(R+r)^2}....(1)$\n",
    "\n",
    "For, $P_{out}$ to be maximum\n",
    "\n",
    "$\\dfrac{dP_{out}}{dR}=0$\n",
    "\n",
    "Differentiating equation (1) wrt R\n",
    "\n",
    "$\\dfrac {dP_{out}}{dR}=E^2\\dfrac{(R+r)^2-R .2(R+r)}{(R+r)^4}$\n",
    "\n",
    "$\\dfrac {dP_{out}}{dR}=E^2\\dfrac{R^2+2Rr+r^2- 2R^2 -2Rr}{(R+r)^4}$\n",
    "\n",
    "$\\dfrac {dP_{out}}{dR}=E^2\\dfrac{r^2- R^2}{(R+r)^4}$\n",
    "\n",
    "$0=E^2\\dfrac{r^2- R^2}{(R+r)^4}$\n",
    "\n",
    "$r^2- R^2=0$\n",
    "\n",
    "$R = r$\n",
    "\n",
    "Thus, mathematics shows that the power output is greatest, when R = r."
   ]
  },
  {
   "cell_type": "markdown",
   "metadata": {},
   "source": [
    "#### Maximum power transfer theorem states that the DC voltage source will deliver maximum power to the variable load resistor only when the load resistance is equal to the source resistance."
   ]
  },
  {
   "cell_type": "markdown",
   "metadata": {},
   "source": [
    "![img](maximum.jpg)"
   ]
  },
  {
   "cell_type": "code",
   "execution_count": 1,
   "metadata": {},
   "outputs": [],
   "source": [
    "import pandas as pd\n",
    "import numpy as np\n",
    "import matplotlib.pyplot as plt\n",
    "import random as random\n",
    "%matplotlib inline"
   ]
  },
  {
   "cell_type": "code",
   "execution_count": 2,
   "metadata": {},
   "outputs": [
    {
     "data": {
      "text/plain": [
       "10.0"
      ]
     },
     "execution_count": 2,
     "metadata": {},
     "output_type": "execute_result"
    }
   ],
   "source": [
    "def Power(E,R,r):\n",
    "    Pout=E**2*R/(R+r)**2\n",
    "    return Pout\n",
    "Power(12,10,2)"
   ]
  },
  {
   "cell_type": "code",
   "execution_count": 3,
   "metadata": {},
   "outputs": [
    {
     "data": {
      "text/plain": [
       "0.8333333333333334"
      ]
     },
     "execution_count": 3,
     "metadata": {},
     "output_type": "execute_result"
    }
   ],
   "source": [
    "def efficiency(R,r):\n",
    "    e=R/(R+r)\n",
    "    return e\n",
    "efficiency (10,2)"
   ]
  },
  {
   "cell_type": "code",
   "execution_count": 10,
   "metadata": {},
   "outputs": [],
   "source": [
    "class Power():\n",
    "    def __init__(self,E,r):\n",
    "        self.E=E\n",
    "        self.r=r\n",
    "        \n",
    "    def Pout(self,R):\n",
    "        P=self.E**2*R/(R+self.r)**2\n",
    "        return P\n",
    "    \n",
    "    def efficiency(self,R):\n",
    "        e=R/(R+self.r)\n",
    "        return e"
   ]
  },
  {
   "cell_type": "code",
   "execution_count": 12,
   "metadata": {},
   "outputs": [
    {
     "name": "stdout",
     "output_type": "stream",
     "text": [
      "5.950413223140496\n",
      "0.8333333333333334\n"
     ]
    }
   ],
   "source": [
    "P1=Power(E=12,r=2)\n",
    "print(P1.Pout(20))\n",
    "print(P1.efficiency(10))"
   ]
  },
  {
   "cell_type": "code",
   "execution_count": 7,
   "metadata": {},
   "outputs": [],
   "source": [
    "E=12 # Emf of cell\n",
    "X=[]# Empty list for External resistance\n",
    "r=2 #internal Resistance of a cell\n",
    "Pout=[]# Empty list for power output\n",
    "N=[] # Empty list for efficiency\n",
    "for R in range (30): # variation of external resistance\n",
    "    pp=P1.Pout(R) # power output\n",
    "    ee=P1.efficiency(R) # efficiency\n",
    "    X.append(R)\n",
    "    Pout.append(pp)\n",
    "    N.append(ee)\n",
    "    #print(X)\n",
    "    #print(Pout)\n",
    "    #print(N)"
   ]
  },
  {
   "cell_type": "code",
   "execution_count": 8,
   "metadata": {},
   "outputs": [],
   "source": [
    "data={} #create an empty list\n",
    "data.update({\"Resistance\":X, \"Power\":Pout, \"Efficiency\": N}) #update above information with Rename\n",
    "#print(data)"
   ]
  },
  {
   "cell_type": "code",
   "execution_count": null,
   "metadata": {},
   "outputs": [],
   "source": [
    "import pandas as pd\n",
    "DF=pd.DataFrame(data)  \n",
    "#print(DF)"
   ]
  },
  {
   "cell_type": "code",
   "execution_count": null,
   "metadata": {},
   "outputs": [],
   "source": [
    "DF.to_csv('Power_variable.csv')"
   ]
  },
  {
   "cell_type": "code",
   "execution_count": null,
   "metadata": {},
   "outputs": [],
   "source": [
    "df=pd.read_csv('Power_variable.csv')\n",
    "df.head() #head mean title eg; Resistance, Power."
   ]
  },
  {
   "cell_type": "code",
   "execution_count": null,
   "metadata": {},
   "outputs": [],
   "source": [
    "import numpy as np\n",
    "import matplotlib.pyplot as plt\n",
    "\n",
    "fig, ax1 = plt.subplots()\n",
    "\n",
    "color = 'tab:red'\n",
    "ax1.set_xlabel('Load Resistance(Ohm)', weight='bold', fontsize=16)\n",
    "ax1.set_ylabel('Output Power(W)', color=color, fontsize=16, weight='bold', fontstyle='italic')\n",
    "ax1.plot(df.Resistance, df.Power, color=color)\n",
    "ax1.tick_params(axis='y', labelcolor=color)\n",
    "\n",
    "ax2 = ax1.twinx()  # instantiate a second axes that shares the same x-axis\n",
    "\n",
    "color = 'tab:blue'\n",
    "ax2.set_ylabel('Efficiency', color=color, fontsize=16, weight='bold', fontstyle='italic')  # we already handled the x-label with ax1\n",
    "ax2.plot(df.Resistance, df.Efficiency, color=color)\n",
    "ax2.tick_params(axis='y', labelcolor=color)\n",
    "\n",
    "plt.grid(True)\n",
    "plt.xticks(range(0,32,2))\n",
    "\n",
    "fig.tight_layout()  # otherwise the right y-label is slightly clipped\n",
    "plt.show()\n"
   ]
  },
  {
   "cell_type": "markdown",
   "metadata": {},
   "source": [
    "### Effect of varying load resistance in current and Terminal Potential difference."
   ]
  },
  {
   "cell_type": "markdown",
   "metadata": {},
   "source": [
    "$Let~E= Emf~of~Cell$\n",
    "\n",
    "$R=External~(load)~Resistance$\n",
    "\n",
    "$r=Internal~resistance~of~cell$\n",
    "                           \n",
    "$I=Current ~through ~circuit$\n",
    "                           \n",
    "$V=Terminal~p.d.$\n",
    "\n",
    "$I=\\dfrac{E}{R+r}$\n",
    "                           \n",
    "$V=IR$\n",
    "\n",
    "$V=R\\dfrac{E}{R+r}$\n"
   ]
  },
  {
   "cell_type": "markdown",
   "metadata": {},
   "source": [
    "![img](maximum.jpg)"
   ]
  },
  {
   "cell_type": "code",
   "execution_count": null,
   "metadata": {},
   "outputs": [],
   "source": [
    "def Current(E,R,r):\n",
    "    I=E/(R+r)\n",
    "    return I\n",
    "Current(12,10,2)"
   ]
  },
  {
   "cell_type": "code",
   "execution_count": null,
   "metadata": {},
   "outputs": [],
   "source": [
    "def Terminalpd(E,R,r):\n",
    "    V=E*R/(R+r)\n",
    "    return V\n",
    "Terminalpd(12,10,2)"
   ]
  },
  {
   "cell_type": "code",
   "execution_count": 13,
   "metadata": {},
   "outputs": [],
   "source": [
    "class Current():\n",
    "    def __init__(self,E,r):\n",
    "        self.E=E\n",
    "        self.r=r\n",
    "        \n",
    "    def I(self,R):\n",
    "        cu=self.E/(R+self.r)\n",
    "        return cu\n",
    "    \n",
    "    def Terminalpd(self,R):\n",
    "        pd=self.E*R/(R+self.r)\n",
    "        return pd"
   ]
  },
  {
   "cell_type": "code",
   "execution_count": 14,
   "metadata": {},
   "outputs": [
    {
     "name": "stdout",
     "output_type": "stream",
     "text": [
      "1.5\n",
      "9.0\n"
     ]
    }
   ],
   "source": [
    "i1=Current(E=12,r=2)\n",
    "print(i1.I(6))\n",
    "print(i1.Terminalpd(6))"
   ]
  },
  {
   "cell_type": "code",
   "execution_count": 15,
   "metadata": {},
   "outputs": [],
   "source": [
    "E=12 # Emf of cell\n",
    "X=[]# Empty list for External resistance\n",
    "r=2 #internal Resistance of a cell\n",
    "TPD=[]# Empty list for terminal p.d.\n",
    "N=[] # Empty list for Current\n",
    "for R in range (30): # variation of external resistance\n",
    "    ii=i1.I(R) # Current\n",
    "    tt=i1.Terminalpd(R) # terminal potential difference\n",
    "    X.append(R)\n",
    "    N.append(ii)\n",
    "    TPD.append(tt)\n",
    "    #print(X)\n",
    "    #print(TPD)\n",
    "    #print(N)"
   ]
  },
  {
   "cell_type": "code",
   "execution_count": 16,
   "metadata": {},
   "outputs": [],
   "source": [
    "data={} #create an empty list\n",
    "data.update({\"Resistance\":X, \"TerminalPD\":TPD, \"Current\": N}) #update above information with Rename\n",
    "#print(data)"
   ]
  },
  {
   "cell_type": "code",
   "execution_count": 17,
   "metadata": {},
   "outputs": [],
   "source": [
    "import pandas as pd\n",
    "DF=pd.DataFrame(data)  \n",
    "#print(DF)"
   ]
  },
  {
   "cell_type": "code",
   "execution_count": 18,
   "metadata": {},
   "outputs": [],
   "source": [
    "DF.to_csv('Terminalpd_variable.csv')"
   ]
  },
  {
   "cell_type": "code",
   "execution_count": 19,
   "metadata": {},
   "outputs": [
    {
     "data": {
      "text/html": [
       "<div>\n",
       "<style scoped>\n",
       "    .dataframe tbody tr th:only-of-type {\n",
       "        vertical-align: middle;\n",
       "    }\n",
       "\n",
       "    .dataframe tbody tr th {\n",
       "        vertical-align: top;\n",
       "    }\n",
       "\n",
       "    .dataframe thead th {\n",
       "        text-align: right;\n",
       "    }\n",
       "</style>\n",
       "<table border=\"1\" class=\"dataframe\">\n",
       "  <thead>\n",
       "    <tr style=\"text-align: right;\">\n",
       "      <th></th>\n",
       "      <th>Unnamed: 0</th>\n",
       "      <th>Resistance</th>\n",
       "      <th>TerminalPD</th>\n",
       "      <th>Current</th>\n",
       "    </tr>\n",
       "  </thead>\n",
       "  <tbody>\n",
       "    <tr>\n",
       "      <th>0</th>\n",
       "      <td>0</td>\n",
       "      <td>0</td>\n",
       "      <td>0.0</td>\n",
       "      <td>6.0</td>\n",
       "    </tr>\n",
       "    <tr>\n",
       "      <th>1</th>\n",
       "      <td>1</td>\n",
       "      <td>1</td>\n",
       "      <td>4.0</td>\n",
       "      <td>4.0</td>\n",
       "    </tr>\n",
       "    <tr>\n",
       "      <th>2</th>\n",
       "      <td>2</td>\n",
       "      <td>2</td>\n",
       "      <td>6.0</td>\n",
       "      <td>3.0</td>\n",
       "    </tr>\n",
       "    <tr>\n",
       "      <th>3</th>\n",
       "      <td>3</td>\n",
       "      <td>3</td>\n",
       "      <td>7.2</td>\n",
       "      <td>2.4</td>\n",
       "    </tr>\n",
       "    <tr>\n",
       "      <th>4</th>\n",
       "      <td>4</td>\n",
       "      <td>4</td>\n",
       "      <td>8.0</td>\n",
       "      <td>2.0</td>\n",
       "    </tr>\n",
       "  </tbody>\n",
       "</table>\n",
       "</div>"
      ],
      "text/plain": [
       "   Unnamed: 0  Resistance  TerminalPD  Current\n",
       "0           0           0         0.0      6.0\n",
       "1           1           1         4.0      4.0\n",
       "2           2           2         6.0      3.0\n",
       "3           3           3         7.2      2.4\n",
       "4           4           4         8.0      2.0"
      ]
     },
     "execution_count": 19,
     "metadata": {},
     "output_type": "execute_result"
    }
   ],
   "source": [
    "df=pd.read_csv('Terminalpd_variable.csv')\n",
    "df.head() #head mean title eg; Resistance, couurent."
   ]
  },
  {
   "cell_type": "code",
   "execution_count": 20,
   "metadata": {},
   "outputs": [
    {
     "data": {
      "image/png": "[encoded data removed]",
      "text/plain": [
       "<Figure size 432x288 with 2 Axes>"
      ]
     },
     "metadata": {
      "needs_background": "light"
     },
     "output_type": "display_data"
    }
   ],
   "source": [
    "import numpy as np\n",
    "import matplotlib.pyplot as plt\n",
    "\n",
    "fig, ax1 = plt.subplots()\n",
    "\n",
    "color = 'tab:red'\n",
    "ax1.set_xlabel('Load Resistance(Ohm)', weight='bold', fontsize=16)\n",
    "ax1.set_ylabel('Terminal P.D.(V)', color=color, fontsize=16, weight='bold', fontstyle='italic')\n",
    "ax1.plot(df.Resistance, df.TerminalPD, color=color)\n",
    "ax1.tick_params(axis='y', labelcolor=color)\n",
    "\n",
    "ax2 = ax1.twinx()  # instantiate a second axes that shares the same x-axis\n",
    "\n",
    "color ='tab:blue'\n",
    "ax2.set_ylabel('Current(A)', color=color, fontsize=16, weight='bold', fontstyle='italic')  # we already handled the x-label with ax1\n",
    "ax2.plot(df.Resistance, df.Current, color=color)\n",
    "ax2.tick_params(axis='y', labelcolor=color)\n",
    "\n",
    "#plt.grid(True)\n",
    "#plt.xticks(range(0,32,2))\n",
    "\n",
    "fig.tight_layout()  # otherwise the right y-label is slightly clipped\n",
    "plt.show()\n"
   ]
  },
  {
   "cell_type": "markdown",
   "metadata": {},
   "source": []
  },
  {
   "cell_type": "code",
   "execution_count": null,
   "metadata": {},
   "outputs": [],
   "source": []
  }
 ],
 "metadata": {
  "kernelspec": {
   "display_name": "Python 3",
   "language": "python",
   "name": "python3"
  },
  "language_info": {
   "codemirror_mode": {
    "name": "ipython",
    "version": 3
   },
   "file_extension": ".py",
   "mimetype": "text/x-python",
   "name": "python",
   "nbconvert_exporter": "python",
   "pygments_lexer": "ipython3",
   "version": "3.7.6"
  }
 },
 "nbformat": 4,
 "nbformat_minor": 4
}
